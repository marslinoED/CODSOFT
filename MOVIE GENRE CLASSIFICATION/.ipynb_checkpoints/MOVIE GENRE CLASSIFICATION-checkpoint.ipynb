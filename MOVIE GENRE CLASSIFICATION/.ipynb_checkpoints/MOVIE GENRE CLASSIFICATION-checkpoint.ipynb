{
 "cells": [
  {
   "cell_type": "code",
   "execution_count": 14,
   "id": "d3b65fd1",
   "metadata": {
    "ExecuteTime": {
     "end_time": "2024-01-27T16:01:15.692686Z",
     "start_time": "2024-01-27T16:01:14.977978Z"
    }
   },
   "outputs": [],
   "source": [
    "\n",
    "# Importing Libraries\n",
    "import pandas as pd  # Reading Data\n",
    "from sklearn.naive_bayes import MultinomialNB  # The Prediciton Model\n",
    "from sklearn.feature_extraction.text import CountVectorizer  # The transforming To Vector Tool\n",
    "from sklearn.pipeline import Pipeline  # Runing Line by line Tool\n",
    "from sklearn.model_selection import train_test_split  # spiliting tool\n",
    "from sklearn.metrics import confusion_matrix, accuracy_score  # visualization\n",
    "import matplotlib.pyplot as plt  # visualization\n",
    "import seaborn as sn  # visualization\n",
    "import warnings\n",
    "warnings.filterwarnings(\"ignore\")"
   ]
  },
  {
   "cell_type": "code",
   "execution_count": 2,
   "id": "b2fc0797",
   "metadata": {
    "ExecuteTime": {
     "end_time": "2024-01-27T15:26:16.402079Z",
     "start_time": "2024-01-27T15:26:15.262059Z"
    }
   },
   "outputs": [],
   "source": [
    "# Reading the Data\n",
    "TestData = pd.read_csv(\"Data/test_data.txt\", sep=\":::\", names=[\"n\", \"TITLE\", \"DESCRIPTION\"])\n",
    "TestData = TestData[[\"TITLE\",\"DESCRIPTION\"]]\n",
    "TestDataSol = pd.read_csv(\"Data/test_data_solution.txt\", sep=\":::\", names=[\"TITLE\", \"GENRE\", \"DESCRIPTION\"])\n",
    "TrainData = pd.read_csv(\"Data/train_data.txt\", sep=\":::\", names=[\"TITLE\", \"GENRE\", \"DESCRIPTION\"])"
   ]
  },
  {
   "cell_type": "code",
   "execution_count": 3,
   "id": "9ad4eaed",
   "metadata": {
    "ExecuteTime": {
     "end_time": "2024-01-27T15:26:16.888139Z",
     "start_time": "2024-01-27T15:26:16.871929Z"
    }
   },
   "outputs": [
    {
     "data": {
      "text/html": [
       "<div>\n",
       "<style scoped>\n",
       "    .dataframe tbody tr th:only-of-type {\n",
       "        vertical-align: middle;\n",
       "    }\n",
       "\n",
       "    .dataframe tbody tr th {\n",
       "        vertical-align: top;\n",
       "    }\n",
       "\n",
       "    .dataframe thead th {\n",
       "        text-align: right;\n",
       "    }\n",
       "</style>\n",
       "<table border=\"1\" class=\"dataframe\">\n",
       "  <thead>\n",
       "    <tr style=\"text-align: right;\">\n",
       "      <th></th>\n",
       "      <th>TITLE</th>\n",
       "      <th>DESCRIPTION</th>\n",
       "    </tr>\n",
       "  </thead>\n",
       "  <tbody>\n",
       "    <tr>\n",
       "      <th>0</th>\n",
       "      <td>Edgar's Lunch (1998)</td>\n",
       "      <td>L.R. Brane loves his life - his car, his apar...</td>\n",
       "    </tr>\n",
       "    <tr>\n",
       "      <th>1</th>\n",
       "      <td>La guerra de papá (1977)</td>\n",
       "      <td>Spain, March 1964: Quico is a very naughty ch...</td>\n",
       "    </tr>\n",
       "    <tr>\n",
       "      <th>2</th>\n",
       "      <td>Off the Beaten Track (2010)</td>\n",
       "      <td>One year in the life of Albin and his family ...</td>\n",
       "    </tr>\n",
       "    <tr>\n",
       "      <th>3</th>\n",
       "      <td>Meu Amigo Hindu (2015)</td>\n",
       "      <td>His father has died, he hasn't spoken with hi...</td>\n",
       "    </tr>\n",
       "    <tr>\n",
       "      <th>4</th>\n",
       "      <td>Er nu zhai (1955)</td>\n",
       "      <td>Before he was known internationally as a mart...</td>\n",
       "    </tr>\n",
       "  </tbody>\n",
       "</table>\n",
       "</div>"
      ],
      "text/plain": [
       "                           TITLE  \\\n",
       "0          Edgar's Lunch (1998)    \n",
       "1      La guerra de papá (1977)    \n",
       "2   Off the Beaten Track (2010)    \n",
       "3        Meu Amigo Hindu (2015)    \n",
       "4             Er nu zhai (1955)    \n",
       "\n",
       "                                         DESCRIPTION  \n",
       "0   L.R. Brane loves his life - his car, his apar...  \n",
       "1   Spain, March 1964: Quico is a very naughty ch...  \n",
       "2   One year in the life of Albin and his family ...  \n",
       "3   His father has died, he hasn't spoken with hi...  \n",
       "4   Before he was known internationally as a mart...  "
      ]
     },
     "execution_count": 3,
     "metadata": {},
     "output_type": "execute_result"
    }
   ],
   "source": [
    "TestData.head()"
   ]
  },
  {
   "cell_type": "code",
   "execution_count": 4,
   "id": "2a81c128",
   "metadata": {
    "ExecuteTime": {
     "end_time": "2024-01-27T15:26:17.776571Z",
     "start_time": "2024-01-27T15:26:17.766877Z"
    }
   },
   "outputs": [
    {
     "data": {
      "text/html": [
       "<div>\n",
       "<style scoped>\n",
       "    .dataframe tbody tr th:only-of-type {\n",
       "        vertical-align: middle;\n",
       "    }\n",
       "\n",
       "    .dataframe tbody tr th {\n",
       "        vertical-align: top;\n",
       "    }\n",
       "\n",
       "    .dataframe thead th {\n",
       "        text-align: right;\n",
       "    }\n",
       "</style>\n",
       "<table border=\"1\" class=\"dataframe\">\n",
       "  <thead>\n",
       "    <tr style=\"text-align: right;\">\n",
       "      <th></th>\n",
       "      <th>TITLE</th>\n",
       "      <th>GENRE</th>\n",
       "      <th>DESCRIPTION</th>\n",
       "    </tr>\n",
       "  </thead>\n",
       "  <tbody>\n",
       "    <tr>\n",
       "      <th>1</th>\n",
       "      <td>Edgar's Lunch (1998)</td>\n",
       "      <td>thriller</td>\n",
       "      <td>L.R. Brane loves his life - his car, his apar...</td>\n",
       "    </tr>\n",
       "    <tr>\n",
       "      <th>2</th>\n",
       "      <td>La guerra de papá (1977)</td>\n",
       "      <td>comedy</td>\n",
       "      <td>Spain, March 1964: Quico is a very naughty ch...</td>\n",
       "    </tr>\n",
       "    <tr>\n",
       "      <th>3</th>\n",
       "      <td>Off the Beaten Track (2010)</td>\n",
       "      <td>documentary</td>\n",
       "      <td>One year in the life of Albin and his family ...</td>\n",
       "    </tr>\n",
       "    <tr>\n",
       "      <th>4</th>\n",
       "      <td>Meu Amigo Hindu (2015)</td>\n",
       "      <td>drama</td>\n",
       "      <td>His father has died, he hasn't spoken with hi...</td>\n",
       "    </tr>\n",
       "    <tr>\n",
       "      <th>5</th>\n",
       "      <td>Er nu zhai (1955)</td>\n",
       "      <td>drama</td>\n",
       "      <td>Before he was known internationally as a mart...</td>\n",
       "    </tr>\n",
       "  </tbody>\n",
       "</table>\n",
       "</div>"
      ],
      "text/plain": [
       "                           TITLE          GENRE  \\\n",
       "1          Edgar's Lunch (1998)       thriller    \n",
       "2      La guerra de papá (1977)         comedy    \n",
       "3   Off the Beaten Track (2010)    documentary    \n",
       "4        Meu Amigo Hindu (2015)          drama    \n",
       "5             Er nu zhai (1955)          drama    \n",
       "\n",
       "                                         DESCRIPTION  \n",
       "1   L.R. Brane loves his life - his car, his apar...  \n",
       "2   Spain, March 1964: Quico is a very naughty ch...  \n",
       "3   One year in the life of Albin and his family ...  \n",
       "4   His father has died, he hasn't spoken with hi...  \n",
       "5   Before he was known internationally as a mart...  "
      ]
     },
     "execution_count": 4,
     "metadata": {},
     "output_type": "execute_result"
    }
   ],
   "source": [
    "TestDataSol.head()"
   ]
  },
  {
   "cell_type": "code",
   "execution_count": 5,
   "id": "3dbdbf07",
   "metadata": {
    "ExecuteTime": {
     "end_time": "2024-01-27T15:26:19.586947Z",
     "start_time": "2024-01-27T15:26:19.577877Z"
    }
   },
   "outputs": [
    {
     "data": {
      "text/html": [
       "<div>\n",
       "<style scoped>\n",
       "    .dataframe tbody tr th:only-of-type {\n",
       "        vertical-align: middle;\n",
       "    }\n",
       "\n",
       "    .dataframe tbody tr th {\n",
       "        vertical-align: top;\n",
       "    }\n",
       "\n",
       "    .dataframe thead th {\n",
       "        text-align: right;\n",
       "    }\n",
       "</style>\n",
       "<table border=\"1\" class=\"dataframe\">\n",
       "  <thead>\n",
       "    <tr style=\"text-align: right;\">\n",
       "      <th></th>\n",
       "      <th>TITLE</th>\n",
       "      <th>GENRE</th>\n",
       "      <th>DESCRIPTION</th>\n",
       "    </tr>\n",
       "  </thead>\n",
       "  <tbody>\n",
       "    <tr>\n",
       "      <th>1</th>\n",
       "      <td>Oscar et la dame rose (2009)</td>\n",
       "      <td>drama</td>\n",
       "      <td>Listening in to a conversation between his do...</td>\n",
       "    </tr>\n",
       "    <tr>\n",
       "      <th>2</th>\n",
       "      <td>Cupid (1997)</td>\n",
       "      <td>thriller</td>\n",
       "      <td>A brother and sister with a past incestuous r...</td>\n",
       "    </tr>\n",
       "    <tr>\n",
       "      <th>3</th>\n",
       "      <td>Young, Wild and Wonderful (1980)</td>\n",
       "      <td>adult</td>\n",
       "      <td>As the bus empties the students for their fie...</td>\n",
       "    </tr>\n",
       "    <tr>\n",
       "      <th>4</th>\n",
       "      <td>The Secret Sin (1915)</td>\n",
       "      <td>drama</td>\n",
       "      <td>To help their unemployed father make ends mee...</td>\n",
       "    </tr>\n",
       "    <tr>\n",
       "      <th>5</th>\n",
       "      <td>The Unrecovered (2007)</td>\n",
       "      <td>drama</td>\n",
       "      <td>The film's title refers not only to the un-re...</td>\n",
       "    </tr>\n",
       "  </tbody>\n",
       "</table>\n",
       "</div>"
      ],
      "text/plain": [
       "                                TITLE       GENRE  \\\n",
       "1       Oscar et la dame rose (2009)       drama    \n",
       "2                       Cupid (1997)    thriller    \n",
       "3   Young, Wild and Wonderful (1980)       adult    \n",
       "4              The Secret Sin (1915)       drama    \n",
       "5             The Unrecovered (2007)       drama    \n",
       "\n",
       "                                         DESCRIPTION  \n",
       "1   Listening in to a conversation between his do...  \n",
       "2   A brother and sister with a past incestuous r...  \n",
       "3   As the bus empties the students for their fie...  \n",
       "4   To help their unemployed father make ends mee...  \n",
       "5   The film's title refers not only to the un-re...  "
      ]
     },
     "execution_count": 5,
     "metadata": {},
     "output_type": "execute_result"
    }
   ],
   "source": [
    "TrainData.head()"
   ]
  },
  {
   "cell_type": "code",
   "execution_count": 8,
   "id": "d5007f6e",
   "metadata": {
    "ExecuteTime": {
     "end_time": "2024-01-27T15:59:58.541334Z",
     "start_time": "2024-01-27T15:59:06.216764Z"
    }
   },
   "outputs": [
    {
     "ename": "NameError",
     "evalue": "name 'c' is not defined",
     "output_type": "error",
     "traceback": [
      "\u001b[1;31m---------------------------------------------------------------------------\u001b[0m",
      "\u001b[1;31mNameError\u001b[0m                                 Traceback (most recent call last)",
      "Cell \u001b[1;32mIn[8], line 26\u001b[0m\n\u001b[0;32m     24\u001b[0m TrainData[\u001b[38;5;124m\"\u001b[39m\u001b[38;5;124mTextCleaning\u001b[39m\u001b[38;5;124m\"\u001b[39m] \u001b[38;5;241m=\u001b[39m TrainData[\u001b[38;5;124m\"\u001b[39m\u001b[38;5;124mDESCRIPTION\u001b[39m\u001b[38;5;124m\"\u001b[39m]\u001b[38;5;241m.\u001b[39mapply(cleaning_data)\n\u001b[0;32m     25\u001b[0m TestData[\u001b[38;5;124m\"\u001b[39m\u001b[38;5;124mTextCleaning\u001b[39m\u001b[38;5;124m\"\u001b[39m] \u001b[38;5;241m=\u001b[39m TestData[\u001b[38;5;124m\"\u001b[39m\u001b[38;5;124mDESCRIPTION\u001b[39m\u001b[38;5;124m\"\u001b[39m]\u001b[38;5;241m.\u001b[39mapply(cleaning_data)\n\u001b[1;32m---> 26\u001b[0m c\n",
      "\u001b[1;31mNameError\u001b[0m: name 'c' is not defined"
     ]
    }
   ],
   "source": [
    "# Cleaining The Data\n",
    "import nltk\n",
    "from nltk.stem import LancasterStemmer\n",
    "from nltk.corpus import stopwords\n",
    "import re\n",
    "import string\n",
    "\n",
    "# Initialize stemmer and stopwords\n",
    "stemmer = LancasterStemmer()\n",
    "stop_words = set(stopwords.words(\"english\"))\n",
    "\n",
    "def cleaning_data(text):\n",
    "    text = text.lower()\n",
    "    text = re.sub(r'@\\S+', '', text)\n",
    "    text = re.sub(r'http\\S+', '', text)\n",
    "    text = re.sub(r'.pic\\S+', '', text)\n",
    "    text = re.sub(r'[^a-zA-Z+]', ' ', text)\n",
    "    text = \"\".join([i for i in text if i not in string.punctuation])\n",
    "    words = nltk.word_tokenize(text)\n",
    "    text = \" \".join([i for i in words if i not in stop_words and len(i) > 2])\n",
    "    text = re.sub(r\"\\s+\", \" \", text).strip()\n",
    "    return text\n",
    "\n",
    "TrainData[\"TextCleaning\"] = TrainData[\"DESCRIPTION\"].apply(cleaning_data)\n",
    "TestData[\"TextCleaning\"] = TestData[\"DESCRIPTION\"].apply(cleaning_data)"
   ]
  },
  {
   "cell_type": "code",
   "execution_count": 7,
   "id": "60ca8989",
   "metadata": {
    "ExecuteTime": {
     "end_time": "2024-01-27T15:33:00.346395Z",
     "start_time": "2024-01-27T15:33:00.330639Z"
    }
   },
   "outputs": [
    {
     "name": "stdout",
     "output_type": "stream",
     "text": [
      "27\n"
     ]
    },
    {
     "data": {
      "text/plain": [
       "array([' drama ', ' thriller ', ' adult ', ' documentary ', ' comedy ',\n",
       "       ' crime ', ' reality-tv ', ' horror ', ' sport ', ' animation ',\n",
       "       ' action ', ' fantasy ', ' short ', ' sci-fi ', ' music ',\n",
       "       ' adventure ', ' talk-show ', ' western ', ' family ', ' mystery ',\n",
       "       ' history ', ' news ', ' biography ', ' romance ', ' game-show ',\n",
       "       ' musical ', ' war '], dtype=object)"
      ]
     },
     "execution_count": 7,
     "metadata": {},
     "output_type": "execute_result"
    }
   ],
   "source": [
    "# Diffrent Types of Movies\n",
    "print(len(TrainData.GENRE.unique()))\n",
    "TrainData.GENRE.unique()"
   ]
  },
  {
   "cell_type": "code",
   "execution_count": 10,
   "id": "1b6c6bcd",
   "metadata": {
    "ExecuteTime": {
     "end_time": "2024-01-27T16:00:33.621070Z",
     "start_time": "2024-01-27T16:00:33.589510Z"
    }
   },
   "outputs": [
    {
     "name": "stdout",
     "output_type": "stream",
     "text": [
      "Elemnts count :  27\n"
     ]
    },
    {
     "data": {
      "text/html": [
       "<div>\n",
       "<style scoped>\n",
       "    .dataframe tbody tr th:only-of-type {\n",
       "        vertical-align: middle;\n",
       "    }\n",
       "\n",
       "    .dataframe tbody tr th {\n",
       "        vertical-align: top;\n",
       "    }\n",
       "\n",
       "    .dataframe thead th {\n",
       "        text-align: right;\n",
       "    }\n",
       "</style>\n",
       "<table border=\"1\" class=\"dataframe\">\n",
       "  <thead>\n",
       "    <tr style=\"text-align: right;\">\n",
       "      <th></th>\n",
       "      <th>TITLE</th>\n",
       "      <th>DESCRIPTION</th>\n",
       "      <th>TextCleaning</th>\n",
       "      <th>GENRE_n</th>\n",
       "    </tr>\n",
       "  </thead>\n",
       "  <tbody>\n",
       "    <tr>\n",
       "      <th>1</th>\n",
       "      <td>Oscar et la dame rose (2009)</td>\n",
       "      <td>Listening in to a conversation between his do...</td>\n",
       "      <td>listening conversation doctor parents year old...</td>\n",
       "      <td>8</td>\n",
       "    </tr>\n",
       "    <tr>\n",
       "      <th>2</th>\n",
       "      <td>Cupid (1997)</td>\n",
       "      <td>A brother and sister with a past incestuous r...</td>\n",
       "      <td>brother sister past incestuous relationship cu...</td>\n",
       "      <td>24</td>\n",
       "    </tr>\n",
       "    <tr>\n",
       "      <th>3</th>\n",
       "      <td>Young, Wild and Wonderful (1980)</td>\n",
       "      <td>As the bus empties the students for their fie...</td>\n",
       "      <td>bus empties students field trip museum natural...</td>\n",
       "      <td>1</td>\n",
       "    </tr>\n",
       "    <tr>\n",
       "      <th>4</th>\n",
       "      <td>The Secret Sin (1915)</td>\n",
       "      <td>To help their unemployed father make ends mee...</td>\n",
       "      <td>help unemployed father make ends meet edith tw...</td>\n",
       "      <td>8</td>\n",
       "    </tr>\n",
       "    <tr>\n",
       "      <th>5</th>\n",
       "      <td>The Unrecovered (2007)</td>\n",
       "      <td>The film's title refers not only to the un-re...</td>\n",
       "      <td>film title refers recovered bodies ground zero...</td>\n",
       "      <td>8</td>\n",
       "    </tr>\n",
       "  </tbody>\n",
       "</table>\n",
       "</div>"
      ],
      "text/plain": [
       "                                TITLE  \\\n",
       "1       Oscar et la dame rose (2009)    \n",
       "2                       Cupid (1997)    \n",
       "3   Young, Wild and Wonderful (1980)    \n",
       "4              The Secret Sin (1915)    \n",
       "5             The Unrecovered (2007)    \n",
       "\n",
       "                                         DESCRIPTION  \\\n",
       "1   Listening in to a conversation between his do...   \n",
       "2   A brother and sister with a past incestuous r...   \n",
       "3   As the bus empties the students for their fie...   \n",
       "4   To help their unemployed father make ends mee...   \n",
       "5   The film's title refers not only to the un-re...   \n",
       "\n",
       "                                        TextCleaning  GENRE_n  \n",
       "1  listening conversation doctor parents year old...        8  \n",
       "2  brother sister past incestuous relationship cu...       24  \n",
       "3  bus empties students field trip museum natural...        1  \n",
       "4  help unemployed father make ends meet edith tw...        8  \n",
       "5  film title refers recovered bodies ground zero...        8  "
      ]
     },
     "execution_count": 10,
     "metadata": {},
     "output_type": "execute_result"
    }
   ],
   "source": [
    "# Encoding Them\n",
    "from sklearn.preprocessing import LabelEncoder\n",
    "GENRElabel = LabelEncoder()\n",
    "TrainData['GENRE_n'] = GENRElabel.fit_transform(TrainData['GENRE'])\n",
    "\n",
    "# droping old coulmn\n",
    "TrainData = TrainData.drop(\"GENRE\", axis=1)\n",
    "\n",
    "print(\"Elemnts count : \", 1 + TrainData.GENRE_n.max())\n",
    "\n",
    "# Displaying the dataframe\n",
    "TrainData.head()"
   ]
  },
  {
   "cell_type": "code",
   "execution_count": 18,
   "id": "86aecaf3",
   "metadata": {
    "ExecuteTime": {
     "end_time": "2024-01-27T16:01:53.541101Z",
     "start_time": "2024-01-27T16:01:53.530502Z"
    }
   },
   "outputs": [
    {
     "data": {
      "text/html": [
       "<div>\n",
       "<style scoped>\n",
       "    .dataframe tbody tr th:only-of-type {\n",
       "        vertical-align: middle;\n",
       "    }\n",
       "\n",
       "    .dataframe tbody tr th {\n",
       "        vertical-align: top;\n",
       "    }\n",
       "\n",
       "    .dataframe thead th {\n",
       "        text-align: right;\n",
       "    }\n",
       "</style>\n",
       "<table border=\"1\" class=\"dataframe\">\n",
       "  <thead>\n",
       "    <tr style=\"text-align: right;\">\n",
       "      <th></th>\n",
       "      <th>TITLE</th>\n",
       "      <th>DESCRIPTION</th>\n",
       "      <th>TextCleaning</th>\n",
       "      <th>GENRE_n</th>\n",
       "    </tr>\n",
       "  </thead>\n",
       "  <tbody>\n",
       "    <tr>\n",
       "      <th>1</th>\n",
       "      <td>Oscar et la dame rose (2009)</td>\n",
       "      <td>Listening in to a conversation between his do...</td>\n",
       "      <td>listening conversation doctor parents year old...</td>\n",
       "      <td>8</td>\n",
       "    </tr>\n",
       "    <tr>\n",
       "      <th>2</th>\n",
       "      <td>Cupid (1997)</td>\n",
       "      <td>A brother and sister with a past incestuous r...</td>\n",
       "      <td>brother sister past incestuous relationship cu...</td>\n",
       "      <td>24</td>\n",
       "    </tr>\n",
       "    <tr>\n",
       "      <th>3</th>\n",
       "      <td>Young, Wild and Wonderful (1980)</td>\n",
       "      <td>As the bus empties the students for their fie...</td>\n",
       "      <td>bus empties students field trip museum natural...</td>\n",
       "      <td>1</td>\n",
       "    </tr>\n",
       "    <tr>\n",
       "      <th>4</th>\n",
       "      <td>The Secret Sin (1915)</td>\n",
       "      <td>To help their unemployed father make ends mee...</td>\n",
       "      <td>help unemployed father make ends meet edith tw...</td>\n",
       "      <td>8</td>\n",
       "    </tr>\n",
       "    <tr>\n",
       "      <th>5</th>\n",
       "      <td>The Unrecovered (2007)</td>\n",
       "      <td>The film's title refers not only to the un-re...</td>\n",
       "      <td>film title refers recovered bodies ground zero...</td>\n",
       "      <td>8</td>\n",
       "    </tr>\n",
       "  </tbody>\n",
       "</table>\n",
       "</div>"
      ],
      "text/plain": [
       "                                TITLE  \\\n",
       "1       Oscar et la dame rose (2009)    \n",
       "2                       Cupid (1997)    \n",
       "3   Young, Wild and Wonderful (1980)    \n",
       "4              The Secret Sin (1915)    \n",
       "5             The Unrecovered (2007)    \n",
       "\n",
       "                                         DESCRIPTION  \\\n",
       "1   Listening in to a conversation between his do...   \n",
       "2   A brother and sister with a past incestuous r...   \n",
       "3   As the bus empties the students for their fie...   \n",
       "4   To help their unemployed father make ends mee...   \n",
       "5   The film's title refers not only to the un-re...   \n",
       "\n",
       "                                        TextCleaning  GENRE_n  \n",
       "1  listening conversation doctor parents year old...        8  \n",
       "2  brother sister past incestuous relationship cu...       24  \n",
       "3  bus empties students field trip museum natural...        1  \n",
       "4  help unemployed father make ends meet edith tw...        8  \n",
       "5  film title refers recovered bodies ground zero...        8  "
      ]
     },
     "execution_count": 18,
     "metadata": {},
     "output_type": "execute_result"
    }
   ],
   "source": [
    "TrainData.head()"
   ]
  },
  {
   "cell_type": "code",
   "execution_count": 16,
   "id": "b658a6ff",
   "metadata": {
    "ExecuteTime": {
     "end_time": "2024-01-27T16:01:39.640705Z",
     "start_time": "2024-01-27T16:01:39.636512Z"
    }
   },
   "outputs": [],
   "source": [
    "# Writing Steps in a model to fiting them using Pipeline\n",
    "clf = Pipeline([('vectorizer', CountVectorizer()), ('nb', MultinomialNB())])"
   ]
  },
  {
   "cell_type": "code",
   "execution_count": 21,
   "id": "37c3bb47",
   "metadata": {
    "ExecuteTime": {
     "end_time": "2024-01-27T16:02:19.981691Z",
     "start_time": "2024-01-27T16:02:16.705939Z"
    }
   },
   "outputs": [
    {
     "data": {
      "text/html": [
       "<style>#sk-container-id-2 {color: black;}#sk-container-id-2 pre{padding: 0;}#sk-container-id-2 div.sk-toggleable {background-color: white;}#sk-container-id-2 label.sk-toggleable__label {cursor: pointer;display: block;width: 100%;margin-bottom: 0;padding: 0.3em;box-sizing: border-box;text-align: center;}#sk-container-id-2 label.sk-toggleable__label-arrow:before {content: \"▸\";float: left;margin-right: 0.25em;color: #696969;}#sk-container-id-2 label.sk-toggleable__label-arrow:hover:before {color: black;}#sk-container-id-2 div.sk-estimator:hover label.sk-toggleable__label-arrow:before {color: black;}#sk-container-id-2 div.sk-toggleable__content {max-height: 0;max-width: 0;overflow: hidden;text-align: left;background-color: #f0f8ff;}#sk-container-id-2 div.sk-toggleable__content pre {margin: 0.2em;color: black;border-radius: 0.25em;background-color: #f0f8ff;}#sk-container-id-2 input.sk-toggleable__control:checked~div.sk-toggleable__content {max-height: 200px;max-width: 100%;overflow: auto;}#sk-container-id-2 input.sk-toggleable__control:checked~label.sk-toggleable__label-arrow:before {content: \"▾\";}#sk-container-id-2 div.sk-estimator input.sk-toggleable__control:checked~label.sk-toggleable__label {background-color: #d4ebff;}#sk-container-id-2 div.sk-label input.sk-toggleable__control:checked~label.sk-toggleable__label {background-color: #d4ebff;}#sk-container-id-2 input.sk-hidden--visually {border: 0;clip: rect(1px 1px 1px 1px);clip: rect(1px, 1px, 1px, 1px);height: 1px;margin: -1px;overflow: hidden;padding: 0;position: absolute;width: 1px;}#sk-container-id-2 div.sk-estimator {font-family: monospace;background-color: #f0f8ff;border: 1px dotted black;border-radius: 0.25em;box-sizing: border-box;margin-bottom: 0.5em;}#sk-container-id-2 div.sk-estimator:hover {background-color: #d4ebff;}#sk-container-id-2 div.sk-parallel-item::after {content: \"\";width: 100%;border-bottom: 1px solid gray;flex-grow: 1;}#sk-container-id-2 div.sk-label:hover label.sk-toggleable__label {background-color: #d4ebff;}#sk-container-id-2 div.sk-serial::before {content: \"\";position: absolute;border-left: 1px solid gray;box-sizing: border-box;top: 0;bottom: 0;left: 50%;z-index: 0;}#sk-container-id-2 div.sk-serial {display: flex;flex-direction: column;align-items: center;background-color: white;padding-right: 0.2em;padding-left: 0.2em;position: relative;}#sk-container-id-2 div.sk-item {position: relative;z-index: 1;}#sk-container-id-2 div.sk-parallel {display: flex;align-items: stretch;justify-content: center;background-color: white;position: relative;}#sk-container-id-2 div.sk-item::before, #sk-container-id-2 div.sk-parallel-item::before {content: \"\";position: absolute;border-left: 1px solid gray;box-sizing: border-box;top: 0;bottom: 0;left: 50%;z-index: -1;}#sk-container-id-2 div.sk-parallel-item {display: flex;flex-direction: column;z-index: 1;position: relative;background-color: white;}#sk-container-id-2 div.sk-parallel-item:first-child::after {align-self: flex-end;width: 50%;}#sk-container-id-2 div.sk-parallel-item:last-child::after {align-self: flex-start;width: 50%;}#sk-container-id-2 div.sk-parallel-item:only-child::after {width: 0;}#sk-container-id-2 div.sk-dashed-wrapped {border: 1px dashed gray;margin: 0 0.4em 0.5em 0.4em;box-sizing: border-box;padding-bottom: 0.4em;background-color: white;}#sk-container-id-2 div.sk-label label {font-family: monospace;font-weight: bold;display: inline-block;line-height: 1.2em;}#sk-container-id-2 div.sk-label-container {text-align: center;}#sk-container-id-2 div.sk-container {/* jupyter's `normalize.less` sets `[hidden] { display: none; }` but bootstrap.min.css set `[hidden] { display: none !important; }` so we also need the `!important` here to be able to override the default hidden behavior on the sphinx rendered scikit-learn.org. See: https://github.com/scikit-learn/scikit-learn/issues/21755 */display: inline-block !important;position: relative;}#sk-container-id-2 div.sk-text-repr-fallback {display: none;}</style><div id=\"sk-container-id-2\" class=\"sk-top-container\"><div class=\"sk-text-repr-fallback\"><pre>Pipeline(steps=[(&#x27;vectorizer&#x27;, CountVectorizer()), (&#x27;nb&#x27;, MultinomialNB())])</pre><b>In a Jupyter environment, please rerun this cell to show the HTML representation or trust the notebook. <br />On GitHub, the HTML representation is unable to render, please try loading this page with nbviewer.org.</b></div><div class=\"sk-container\" hidden><div class=\"sk-item sk-dashed-wrapped\"><div class=\"sk-label-container\"><div class=\"sk-label sk-toggleable\"><input class=\"sk-toggleable__control sk-hidden--visually\" id=\"sk-estimator-id-4\" type=\"checkbox\" ><label for=\"sk-estimator-id-4\" class=\"sk-toggleable__label sk-toggleable__label-arrow\">Pipeline</label><div class=\"sk-toggleable__content\"><pre>Pipeline(steps=[(&#x27;vectorizer&#x27;, CountVectorizer()), (&#x27;nb&#x27;, MultinomialNB())])</pre></div></div></div><div class=\"sk-serial\"><div class=\"sk-item\"><div class=\"sk-estimator sk-toggleable\"><input class=\"sk-toggleable__control sk-hidden--visually\" id=\"sk-estimator-id-5\" type=\"checkbox\" ><label for=\"sk-estimator-id-5\" class=\"sk-toggleable__label sk-toggleable__label-arrow\">CountVectorizer</label><div class=\"sk-toggleable__content\"><pre>CountVectorizer()</pre></div></div></div><div class=\"sk-item\"><div class=\"sk-estimator sk-toggleable\"><input class=\"sk-toggleable__control sk-hidden--visually\" id=\"sk-estimator-id-6\" type=\"checkbox\" ><label for=\"sk-estimator-id-6\" class=\"sk-toggleable__label sk-toggleable__label-arrow\">MultinomialNB</label><div class=\"sk-toggleable__content\"><pre>MultinomialNB()</pre></div></div></div></div></div></div></div>"
      ],
      "text/plain": [
       "Pipeline(steps=[('vectorizer', CountVectorizer()), ('nb', MultinomialNB())])"
      ]
     },
     "execution_count": 21,
     "metadata": {},
     "output_type": "execute_result"
    }
   ],
   "source": [
    "# training the model\n",
    "clf.fit(TrainData.TextCleaning, TrainData.GENRE_n)"
   ]
  },
  {
   "cell_type": "code",
   "execution_count": 22,
   "id": "7730bc52",
   "metadata": {
    "ExecuteTime": {
     "end_time": "2024-01-27T16:02:23.751379Z",
     "start_time": "2024-01-27T16:02:20.706868Z"
    }
   },
   "outputs": [
    {
     "name": "stdout",
     "output_type": "stream",
     "text": [
      "Accuracy: 53.75%\n"
     ]
    }
   ],
   "source": [
    "# making prediction of the test\n",
    "y_pred = clf.predict(TestData.TextCleaning)\n",
    "\n",
    "y_true = GENRElabel.fit_transform(TestDataSol['GENRE'])\n",
    "\n",
    "# The model Accuracy\n",
    "accuracy = accuracy_score(y_true, y_pred)\n",
    "print(f\"Accuracy: {accuracy * 100:.2f}%\")"
   ]
  },
  {
   "cell_type": "code",
   "execution_count": 24,
   "id": "a6febc0d",
   "metadata": {
    "ExecuteTime": {
     "end_time": "2024-01-27T16:02:29.177974Z",
     "start_time": "2024-01-27T16:02:29.156399Z"
    }
   },
   "outputs": [
    {
     "name": "stdout",
     "output_type": "stream",
     "text": [
      "Prediction: [' drama ' ' comedy ']\n"
     ]
    }
   ],
   "source": [
    "# Predicting manual\n",
    "Descriptions = [\n",
    "    \"Listening in to a conversation between his doctor and parents, 10-year-old Oscar learns what nobody has the courage to tell him. He only has a few weeks to live. Furious, he refuses to speak to anyone except straight-talking Rose, the lady in pink he meets on the hospital stairs. As Christmas approaches, Rose uses her fantastical experiences as a professional wrestler, her imagination, wit and charm to allow Oscar to live life and love to the full, in the company of his friends Pop Corn, Einstein, Bacon and childhood sweetheart Peggy Blue.\"\n",
    " ,   \"In tough economic times Max and Joey have all but run out of ideas until, they discover that senior housing is cheap. Not only that but Max's aunt just kicked the bucket and no one knows yet. In a hilarious series that always keeps you on your toes, the two friends take us on a cross-dressing, desperate and endearing ride through being broke.\"\n",
    "]\n",
    "print(\"Prediction:\", GENRElabel.inverse_transform(clf.predict(Descriptions)))"
   ]
  },
  {
   "cell_type": "code",
   "execution_count": 29,
   "id": "8af44606",
   "metadata": {
    "ExecuteTime": {
     "end_time": "2024-01-27T16:25:49.116885Z",
     "start_time": "2024-01-27T16:25:49.099864Z"
    }
   },
   "outputs": [
    {
     "data": {
      "application/vnd.jupyter.widget-view+json": {
       "model_id": "07161c8ec49541218ac93cc7a929d9c2",
       "version_major": 2,
       "version_minor": 0
      },
      "text/plain": [
       "Text(value='', layout=Layout(height='30px', width='500px'), placeholder='Enter description')"
      ]
     },
     "metadata": {},
     "output_type": "display_data"
    },
    {
     "data": {
      "application/vnd.jupyter.widget-view+json": {
       "model_id": "d3ae50f1591a4808bcdb4547ee36a2cf",
       "version_major": 2,
       "version_minor": 0
      },
      "text/plain": [
       "Button(description='PREDICT', style=ButtonStyle())"
      ]
     },
     "metadata": {},
     "output_type": "display_data"
    }
   ],
   "source": [
    "# GUI\n",
    "import ipywidgets as widgets\n",
    "from IPython.display import display\n",
    "\n",
    "# Define a function to be called when the button is clicked\n",
    "def on_button_click(b):\n",
    "    text_value = text_box.value\n",
    "    print(\"Film's GENRE is : \", GENRElabel.inverse_transform([int(clf.predict([text_value]))]))\n",
    "\n",
    "# Create button and text box widgets\n",
    "button = widgets.Button(description=\"PREDICT\")\n",
    "text_box = widgets.Text(placeholder=\"Enter description\")\n",
    "text_box.layout.width = '500px'\n",
    "text_box.layout.height = '30px'\n",
    "\n",
    "# Attach the function to the button click event\n",
    "button.on_click(on_button_click)\n",
    "\n",
    "# Display the widgets\n",
    "display(text_box)\n",
    "display(button)"
   ]
  }
 ],
 "metadata": {
  "kernelspec": {
   "display_name": "Python 3 (ipykernel)",
   "language": "python",
   "name": "python3"
  },
  "language_info": {
   "codemirror_mode": {
    "name": "ipython",
    "version": 3
   },
   "file_extension": ".py",
   "mimetype": "text/x-python",
   "name": "python",
   "nbconvert_exporter": "python",
   "pygments_lexer": "ipython3",
   "version": "3.11.5"
  },
  "varInspector": {
   "cols": {
    "lenName": 16,
    "lenType": 16,
    "lenVar": 40
   },
   "kernels_config": {
    "python": {
     "delete_cmd_postfix": "",
     "delete_cmd_prefix": "del ",
     "library": "var_list.py",
     "varRefreshCmd": "print(var_dic_list())"
    },
    "r": {
     "delete_cmd_postfix": ") ",
     "delete_cmd_prefix": "rm(",
     "library": "var_list.r",
     "varRefreshCmd": "cat(var_dic_list()) "
    }
   },
   "types_to_exclude": [
    "module",
    "function",
    "builtin_function_or_method",
    "instance",
    "_Feature"
   ],
   "window_display": false
  }
 },
 "nbformat": 4,
 "nbformat_minor": 5
}
